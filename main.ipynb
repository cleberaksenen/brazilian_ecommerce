{
 "cells": [
  {
   "cell_type": "code",
   "execution_count": 43,
   "metadata": {},
   "outputs": [],
   "source": [
    "import kagglehub\n",
    "import shutil\n",
    "import os\n",
    "import pandas as pd"
   ]
  },
  {
   "cell_type": "markdown",
   "metadata": {},
   "source": [
    "### Download"
   ]
  },
  {
   "cell_type": "code",
   "execution_count": 46,
   "metadata": {},
   "outputs": [
    {
     "name": "stdout",
     "output_type": "stream",
     "text": [
      "Resuming download from 26214400 bytes (18503180 bytes left)...\n",
      "Resuming download from https://www.kaggle.com/api/v1/datasets/download/olistbr/brazilian-ecommerce?dataset_version_number=2 (26214400/44717580) bytes left.\n"
     ]
    },
    {
     "name": "stderr",
     "output_type": "stream",
     "text": [
      "100%|██████████| 42.6M/42.6M [00:12<00:00, 1.43MB/s]"
     ]
    },
    {
     "name": "stdout",
     "output_type": "stream",
     "text": [
      "Extracting files...\n"
     ]
    },
    {
     "name": "stderr",
     "output_type": "stream",
     "text": [
      "\n"
     ]
    },
    {
     "name": "stdout",
     "output_type": "stream",
     "text": [
      "Files Downloaded to: ./data\n"
     ]
    }
   ],
   "source": [
    "# Download dataset\n",
    "path = kagglehub.dataset_download(\"olistbr/brazilian-ecommerce\")\n",
    "\n",
    "# Move files to the current directory\n",
    "shutil.move(path, \"./data\")\n",
    "\n",
    "print(\"Files Downloaded to:\", \"./data\")"
   ]
  },
  {
   "cell_type": "markdown",
   "metadata": {},
   "source": [
    "### ETL"
   ]
  },
  {
   "cell_type": "code",
   "execution_count": 47,
   "metadata": {},
   "outputs": [],
   "source": [
    "data_path = \"./data\"\n",
    "files = os.listdir(data_path)"
   ]
  },
  {
   "cell_type": "code",
   "execution_count": 48,
   "metadata": {},
   "outputs": [
    {
     "data": {
      "text/plain": [
       "['olist_customers_dataset.csv',\n",
       " 'olist_geolocation_dataset.csv',\n",
       " 'olist_orders_dataset.csv',\n",
       " 'olist_order_items_dataset.csv',\n",
       " 'olist_order_payments_dataset.csv',\n",
       " 'olist_order_reviews_dataset.csv',\n",
       " 'olist_products_dataset.csv',\n",
       " 'olist_sellers_dataset.csv',\n",
       " 'product_category_name_translation.csv']"
      ]
     },
     "execution_count": 48,
     "metadata": {},
     "output_type": "execute_result"
    }
   ],
   "source": [
    "files"
   ]
  },
  {
   "cell_type": "code",
   "execution_count": 49,
   "metadata": {},
   "outputs": [],
   "source": [
    "customers_dataset = pd.read_csv(f\"{data_path}/olist_customers_dataset.csv\")\n",
    "geolocation_dataset = pd.read_csv(f\"{data_path}/olist_geolocation_dataset.csv\")\n",
    "orders_dataset = pd.read_csv(f\"{data_path}/olist_orders_dataset.csv\")\n",
    "order_items_dataset = pd.read_csv(f\"{data_path}/olist_order_items_dataset.csv\")\n",
    "order_payments_dataset = pd.read_csv(f\"{data_path}/olist_order_payments_dataset.csv\")\n",
    "order_reviews_dataset = pd.read_csv(f\"{data_path}/olist_order_reviews_dataset.csv\")\n",
    "products_dataset = pd.read_csv(f\"{data_path}/olist_products_dataset.csv\")\n",
    "sellers_dataset = pd.read_csv(f\"{data_path}/olist_sellers_dataset.csv\")"
   ]
  },
  {
   "cell_type": "markdown",
   "metadata": {},
   "source": [
    "##### Creating the column 'geolocation_state_brazil'"
   ]
  },
  {
   "cell_type": "code",
   "execution_count": 50,
   "metadata": {},
   "outputs": [],
   "source": [
    "uf_to_state = {\n",
    "    'AC': 'Acre', 'AL': 'Alagoas', 'AP': 'Amapá', 'AM': 'Amazonas', 'BA': 'Bahia',\n",
    "    'CE': 'Ceará', 'DF': 'Distrito Federal', 'ES': 'Espírito Santo', 'GO': 'Goiás',\n",
    "    'MA': 'Maranhão', 'MT': 'Mato Grosso', 'MS': 'Mato Grosso do Sul', 'MG': 'Minas Gerais',\n",
    "    'PA': 'Pará', 'PB': 'Paraíba', 'PR': 'Paraná', 'PE': 'Pernambuco', 'PI': 'Piauí',\n",
    "    'RJ': 'Rio de Janeiro', 'RN': 'Rio Grande do Norte', 'RS': 'Rio Grande do Sul',\n",
    "    'RO': 'Rondônia', 'RR': 'Roraima', 'SC': 'Santa Catarina', 'SP': 'São Paulo',\n",
    "    'SE': 'Sergipe', 'TO': 'Tocantins'\n",
    "}\n",
    "\n",
    "geolocation_dataset['geolocation_state_brazil'] = 'BRAZIL-' + geolocation_dataset['geolocation_state'].map(uf_to_state)\n",
    "\n",
    "geolocation_dataset.to_csv(f\"{data_path}/olist_geolocation_dataset.csv\", index=False)"
   ]
  },
  {
   "cell_type": "markdown",
   "metadata": {},
   "source": [
    "### Description\n",
    "Olist follows a relational database model. Here is a basic map of the connections:\n",
    "\n",
    "olist_orders_dataset.csv (Orders) is the central table.\n",
    "\n",
    "olist_customers_dataset.csv (Customers) connects via customer_id.\n",
    "\n",
    "olist_order_items_dataset.csv (Order Items) connects via order_id.\n",
    "\n",
    "olist_order_payments_dataset.csv (Payments) connects via order_id.\n",
    "\n",
    "olist_order_reviews_dataset.csv (Reviews) connects via order_id.\n",
    "\n",
    "olist_products_dataset.csv (Products) connects via product_id.\n",
    "\n",
    "olist_sellers_dataset.csv (Sellers) connects via seller_id.\n",
    "\n",
    "olist_geolocation_dataset.csv (Geolocation) can be linked by zip_code_prefix."
   ]
  },
  {
   "cell_type": "markdown",
   "metadata": {},
   "source": [
    "## Dashboard"
   ]
  },
  {
   "cell_type": "code",
   "execution_count": 41,
   "metadata": {},
   "outputs": [],
   "source": [
    "import dash\n",
    "from dash import dcc, html\n",
    "import pandas as pd\n",
    "import plotly.express as px"
   ]
  },
  {
   "cell_type": "markdown",
   "metadata": {},
   "source": [
    "Data processing"
   ]
  },
  {
   "cell_type": "code",
   "execution_count": null,
   "metadata": {},
   "outputs": [],
   "source": [
    "order_status_counts = orders_dataset[\"order_status\"].value_counts().reset_index()\n",
    "order_status_counts.columns = [\"status\", \"count\"]\n",
    "\n",
    "payment_type_counts = order_payments_dataset[\"payment_type\"].value_counts().reset_index()\n",
    "payment_type_counts.columns = [\"payment_type\", \"count\"]"
   ]
  },
  {
   "cell_type": "code",
   "execution_count": 58,
   "metadata": {},
   "outputs": [],
   "source": [
    "orders_dataset[\"order_purchase_timestamp\"] = pd.to_datetime(orders_dataset[\"order_purchase_timestamp\"])\n",
    "orders_dataset[\"year_month\"] = orders_dataset[\"order_purchase_timestamp\"].dt.to_period(\"M\")\n",
    "\n",
    "orders_by_month = orders_dataset[\"year_month\"].value_counts().sort_index().reset_index()\n",
    "orders_by_month.columns = [\"year_month\", \"count\"]"
   ]
  },
  {
   "cell_type": "code",
   "execution_count": 60,
   "metadata": {},
   "outputs": [],
   "source": [
    "df_orders_items = order_items_dataset.merge(products_dataset, on=\"product_id\")\n",
    "df_orders_items[\"total_price\"] = df_orders_items[\"price\"] + df_orders_items[\"freight_value\"]\n",
    "\n",
    "revenue_by_category = df_orders_items.groupby(\"product_category_name\")[\"total_price\"].sum().reset_index()\n",
    "top_categories = revenue_by_category.nlargest(10, \"total_price\")"
   ]
  },
  {
   "cell_type": "code",
   "execution_count": null,
   "metadata": {},
   "outputs": [],
   "source": [
    "df_payments = order_payments_dataset.merge(orders_dataset, on=\"order_id\")\n",
    "avg_ticket = df_payments.groupby(\"payment_type\")[\"payment_value\"].mean().reset_index()"
   ]
  },
  {
   "cell_type": "code",
   "execution_count": 67,
   "metadata": {},
   "outputs": [],
   "source": [
    "df_orders_customers = orders_dataset.merge(customers_dataset, on=\"customer_id\")\n",
    "df_orders_customers[\"delivery_time\"] = (\n",
    "    pd.to_datetime(df_orders_customers[\"order_delivered_customer_date\"]) - \n",
    "    pd.to_datetime(df_orders_customers[\"order_purchase_timestamp\"])\n",
    ").dt.days\n",
    "\n",
    "delivery_by_state = df_orders_customers.groupby(\"customer_state\")[\"delivery_time\"].mean().reset_index()"
   ]
  },
  {
   "cell_type": "markdown",
   "metadata": {},
   "source": [
    "Criação dos gráficos"
   ]
  },
  {
   "cell_type": "code",
   "execution_count": 81,
   "metadata": {},
   "outputs": [],
   "source": [
    "fig_orders = px.bar(order_status_counts, x=\"status\", y=\"count\", title=\"Status dos Pedidos\")\n",
    "\n",
    "fig_payments = px.pie(payment_type_counts, names=\"payment_type\", values=\"count\", title=\"Métodos de Pagamento\")\n",
    "\n",
    "fig_revenue = px.bar(top_categories, x=\"product_category_name\", y=\"total_price\",\n",
    "                     title=\"Top 10 Categorias por Receita\", labels={\"product_category_name\": \"Categoria\"})\n",
    "\n",
    "fig_ticket = px.bar(avg_ticket, x=\"payment_value\", y=\"payment_type\", orientation=\"h\",\n",
    "                    title=\"Ticket Médio por Método de Pagamento\", labels={\"payment_value\": \"Valor Médio (R$)\"})\n",
    "                    "
   ]
  },
  {
   "cell_type": "markdown",
   "metadata": {},
   "source": [
    "Criação do Dash"
   ]
  },
  {
   "cell_type": "code",
   "execution_count": 82,
   "metadata": {},
   "outputs": [
    {
     "data": {
      "text/html": [
       "\n",
       "        <iframe\n",
       "            width=\"100%\"\n",
       "            height=\"650\"\n",
       "            src=\"http://127.0.0.1:8050/\"\n",
       "            frameborder=\"0\"\n",
       "            allowfullscreen\n",
       "            \n",
       "        ></iframe>\n",
       "        "
      ],
      "text/plain": [
       "<IPython.lib.display.IFrame at 0x2c38ad48050>"
      ]
     },
     "metadata": {},
     "output_type": "display_data"
    }
   ],
   "source": [
    "app = dash.Dash(__name__)\n",
    "\n",
    "app.layout = html.Div([\n",
    "    html.H1(\"Dashboard de E-Commerce\"),\n",
    "    dcc.Graph(figure=fig_orders),\n",
    "    dcc.Graph(figure=fig_payments),\n",
    "    dcc.Graph(figure=fig_revenue),\n",
    "    dcc.Graph(figure=fig_ticket),\n",
    "])\n",
    "\n",
    "# Executar servidor e abrir navegador\n",
    "if __name__ == \"__main__\":\n",
    "    from threading import Timer\n",
    "    import webbrowser\n",
    "\n",
    "    def open_browser():\n",
    "        webbrowser.open_new(\"http://127.0.0.1:8050/\")\n",
    "\n",
    "    Timer(1, open_browser).start()\n",
    "    app.run_server(debug=False)"
   ]
  }
 ],
 "metadata": {
  "kernelspec": {
   "display_name": "Python 3",
   "language": "python",
   "name": "python3"
  },
  "language_info": {
   "codemirror_mode": {
    "name": "ipython",
    "version": 3
   },
   "file_extension": ".py",
   "mimetype": "text/x-python",
   "name": "python",
   "nbconvert_exporter": "python",
   "pygments_lexer": "ipython3",
   "version": "3.13.2"
  }
 },
 "nbformat": 4,
 "nbformat_minor": 2
}
