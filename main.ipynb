{
 "cells": [
  {
   "cell_type": "code",
   "execution_count": 11,
   "metadata": {},
   "outputs": [],
   "source": [
    "import kagglehub\n",
    "import shutil\n",
    "import os\n",
    "import pandas as pd"
   ]
  },
  {
   "cell_type": "markdown",
   "metadata": {},
   "source": [
    "### Download"
   ]
  },
  {
   "cell_type": "code",
   "execution_count": 4,
   "metadata": {},
   "outputs": [
    {
     "name": "stdout",
     "output_type": "stream",
     "text": [
      "Downloading from https://www.kaggle.com/api/v1/datasets/download/olistbr/brazilian-ecommerce?dataset_version_number=2...\n"
     ]
    },
    {
     "name": "stderr",
     "output_type": "stream",
     "text": [
      "100%|██████████| 42.6M/42.6M [00:12<00:00, 3.64MB/s]"
     ]
    },
    {
     "name": "stdout",
     "output_type": "stream",
     "text": [
      "Extracting files...\n"
     ]
    },
    {
     "name": "stderr",
     "output_type": "stream",
     "text": [
      "\n"
     ]
    },
    {
     "name": "stdout",
     "output_type": "stream",
     "text": [
      "Files Downloaded to: ./data\n"
     ]
    }
   ],
   "source": [
    "# Download dataset\n",
    "path = kagglehub.dataset_download(\"olistbr/brazilian-ecommerce\")\n",
    "\n",
    "# Move files to the current directory\n",
    "shutil.move(path, \"./data\")\n",
    "\n",
    "print(\"Files Downloaded to:\", \"./data\")"
   ]
  },
  {
   "cell_type": "markdown",
   "metadata": {},
   "source": [
    "### ETL"
   ]
  },
  {
   "cell_type": "code",
   "execution_count": 8,
   "metadata": {},
   "outputs": [],
   "source": [
    "data_path = \"./data\"\n",
    "files = os.listdir(data_path)"
   ]
  },
  {
   "cell_type": "code",
   "execution_count": 9,
   "metadata": {},
   "outputs": [
    {
     "data": {
      "text/plain": [
       "['olist_customers_dataset.csv',\n",
       " 'olist_geolocation_dataset.csv',\n",
       " 'olist_orders_dataset.csv',\n",
       " 'olist_order_items_dataset.csv',\n",
       " 'olist_order_payments_dataset.csv',\n",
       " 'olist_order_reviews_dataset.csv',\n",
       " 'olist_products_dataset.csv',\n",
       " 'olist_sellers_dataset.csv',\n",
       " 'product_category_name_translation.csv']"
      ]
     },
     "execution_count": 9,
     "metadata": {},
     "output_type": "execute_result"
    }
   ],
   "source": [
    "files"
   ]
  },
  {
   "cell_type": "code",
   "execution_count": null,
   "metadata": {},
   "outputs": [],
   "source": [
    "customers_dataset = pd.read_csv(f\"{data_path}/olist_customers_dataset.csv\")\n",
    "geolocation_dataset = pd.read_csv(f\"{data_path}/olist_geolocation_dataset.csv\")\n",
    "orders_dataset = pd.read_csv(f\"{data_path}/olist_orders_dataset.csv\")\n",
    "order_items_dataset = pd.read_csv(f\"{data_path}/olist_order_items_dataset.csv\")\n",
    "order_payments_dataset = pd.read_csv(f\"{data_path}/olist_order_payments_dataset.csv\")\n",
    "order_reviews_dataset = pd.read_csv(f\"{data_path}/olist_order_reviews_dataset.csv\")\n",
    "products_dataset = pd.read_csv(f\"{data_path}/olist_products_dataset.csv\")\n",
    "sellers_dataset = pd.read_csv(f\"{data_path}/olist_sellers_dataset.csv\")"
   ]
  },
  {
   "cell_type": "markdown",
   "metadata": {},
   "source": [
    "##### Creating the column 'geolocation_state_brazil'"
   ]
  },
  {
   "cell_type": "code",
   "execution_count": 24,
   "metadata": {},
   "outputs": [],
   "source": [
    "uf_to_state = {\n",
    "    'AC': 'Acre', 'AL': 'Alagoas', 'AP': 'Amapá', 'AM': 'Amazonas', 'BA': 'Bahia',\n",
    "    'CE': 'Ceará', 'DF': 'Distrito Federal', 'ES': 'Espírito Santo', 'GO': 'Goiás',\n",
    "    'MA': 'Maranhão', 'MT': 'Mato Grosso', 'MS': 'Mato Grosso do Sul', 'MG': 'Minas Gerais',\n",
    "    'PA': 'Pará', 'PB': 'Paraíba', 'PR': 'Paraná', 'PE': 'Pernambuco', 'PI': 'Piauí',\n",
    "    'RJ': 'Rio de Janeiro', 'RN': 'Rio Grande do Norte', 'RS': 'Rio Grande do Sul',\n",
    "    'RO': 'Rondônia', 'RR': 'Roraima', 'SC': 'Santa Catarina', 'SP': 'São Paulo',\n",
    "    'SE': 'Sergipe', 'TO': 'Tocantins'\n",
    "}\n",
    "\n",
    "geolocation_dataset['geolocation_state_brazil'] = 'BRAZIL-' + geolocation_dataset['geolocation_state'].map(uf_to_state)\n",
    "\n",
    "geolocation_dataset.to_csv(f\"{data_path}/olist_geolocation_dataset.csv\", index=False)"
   ]
  },
  {
   "cell_type": "markdown",
   "metadata": {},
   "source": [
    "### Description\n",
    "Olist follows a relational database model. Here is a basic map of the connections:\n",
    "\n",
    "olist_orders_dataset.csv (Orders) is the central table.\n",
    "\n",
    "olist_customers_dataset.csv (Customers) connects via customer_id.\n",
    "\n",
    "olist_order_items_dataset.csv (Order Items) connects via order_id.\n",
    "\n",
    "olist_order_payments_dataset.csv (Payments) connects via order_id.\n",
    "\n",
    "olist_order_reviews_dataset.csv (Reviews) connects via order_id.\n",
    "\n",
    "olist_products_dataset.csv (Products) connects via product_id.\n",
    "\n",
    "olist_sellers_dataset.csv (Sellers) connects via seller_id.\n",
    "\n",
    "olist_geolocation_dataset.csv (Geolocation) can be linked by zip_code_prefix."
   ]
  }
 ],
 "metadata": {
  "kernelspec": {
   "display_name": "Python 3",
   "language": "python",
   "name": "python3"
  },
  "language_info": {
   "codemirror_mode": {
    "name": "ipython",
    "version": 3
   },
   "file_extension": ".py",
   "mimetype": "text/x-python",
   "name": "python",
   "nbconvert_exporter": "python",
   "pygments_lexer": "ipython3",
   "version": "3.13.2"
  }
 },
 "nbformat": 4,
 "nbformat_minor": 2
}
